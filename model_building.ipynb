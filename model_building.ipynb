{
 "cells": [
  {
   "cell_type": "code",
   "execution_count": 221,
   "metadata": {},
   "outputs": [],
   "source": [
    "from numpy import mean\n",
    "from numpy import std\n",
    "\n",
    "import pandas as pd\n",
    "import time\n",
    "import datetime as dt\n",
    "import pickle\n",
    "\n",
    "from sklearn.model_selection import train_test_split, RepeatedStratifiedKFold, cross_val_score\n",
    "\n",
    "from sklearn.ensemble import RandomForestClassifier, VotingClassifier, StackingClassifier\n",
    "from sklearn.svm import SVC, LinearSVC\n",
    "from sklearn.naive_bayes import GaussianNB\n",
    "from sklearn.neighbors import KNeighborsClassifier\n",
    "from sklearn.linear_model import LogisticRegression\n",
    "from sklearn.metrics import classification_report, confusion_matrix, accuracy_score\n",
    "\n",
    "import xgboost as xgb\n",
    "\n",
    "from sklearn.model_selection import GridSearchCV, cross_val_predict"
   ]
  },
  {
   "cell_type": "code",
   "execution_count": 3,
   "metadata": {},
   "outputs": [],
   "source": [
    "df = pd.read_csv(\"train_bin.csv\")"
   ]
  },
  {
   "cell_type": "code",
   "execution_count": 4,
   "metadata": {},
   "outputs": [],
   "source": [
    "X = df.drop(\"Survived\", axis=1)\n",
    "y = df.Survived"
   ]
  },
  {
   "cell_type": "code",
   "execution_count": 5,
   "metadata": {},
   "outputs": [],
   "source": [
    "X_train, X_test, y_train, y_test = train_test_split(X, y, test_size=0.25, random_state=23)"
   ]
  },
  {
   "cell_type": "code",
   "execution_count": 38,
   "metadata": {},
   "outputs": [],
   "source": [
    "def fit_model(model, X_train, y_train, cv, X_test=X_test, y_test=y_test):\n",
    "    model = model.fit(X_train, y_train)\n",
    "    acc = round(model.score(X_test, y_test) * 100, 2)\n",
    "    \n",
    "    test_pred = cross_val_predict(model,\n",
    "                                  X_test,\n",
    "                                  y_test,\n",
    "                                  cv = cv)\n",
    "    \n",
    "    acc_cv = round(accuracy_score(y_test, test_pred) * 100, 2)\n",
    "    \n",
    "    return test_pred, acc, acc_cv"
   ]
  },
  {
   "cell_type": "markdown",
   "metadata": {},
   "source": [
    "# Logistic Regression"
   ]
  },
  {
   "cell_type": "code",
   "execution_count": 20,
   "metadata": {},
   "outputs": [
    {
     "name": "stdout",
     "output_type": "stream",
     "text": [
      "Accuracy: 79.41\n",
      "5-fold CV Accuracy: 74.71\n",
      "Running time: 0:00:00.295659\n"
     ]
    }
   ],
   "source": [
    "start = time.time()\n",
    "\n",
    "train_pred_logistic, acc_logistic, acc_cv_logistic = fit_model(LogisticRegression(random_state = 23),\n",
    "                                                               X_train,\n",
    "                                                               y_train,\n",
    "                                                               5)\n",
    "\n",
    "logistic_time = dt.timedelta(seconds=(time.time() - start))\n",
    "print(f\"Accuracy: {acc_logistic}\")\n",
    "print(f\"5-fold CV Accuracy: {acc_cv_logistic}\")\n",
    "print(f\"Running time: {logistic_time}\")"
   ]
  },
  {
   "cell_type": "code",
   "execution_count": 190,
   "metadata": {},
   "outputs": [],
   "source": [
    "parameters = {'C':[0.01, 0.1, 1, 10], \n",
    "              'penalty':[\"l1\", \"l2\", \"none\"], \n",
    "              \"solver\":[\"liblinear\", \"lbfgs\"]}"
   ]
  },
  {
   "cell_type": "code",
   "execution_count": null,
   "metadata": {},
   "outputs": [],
   "source": [
    "lr_clf = GridSearchCV(LogisticRegression(random_state=23, max_iter=1000),\n",
    "                      parameters,\n",
    "                      refit=True,\n",
    "                      verbose=3)\n",
    "\n",
    "lr_clf.fit(X_train, y_train)"
   ]
  },
  {
   "cell_type": "code",
   "execution_count": 224,
   "metadata": {},
   "outputs": [
    {
     "data": {
      "text/plain": [
       "{'C': 1, 'penalty': 'l2', 'solver': 'liblinear'}"
      ]
     },
     "execution_count": 224,
     "metadata": {},
     "output_type": "execute_result"
    }
   ],
   "source": [
    "lr_clf.best_params_"
   ]
  },
  {
   "cell_type": "code",
   "execution_count": 225,
   "metadata": {},
   "outputs": [
    {
     "data": {
      "text/plain": [
       "0.7912250048534265"
      ]
     },
     "execution_count": 225,
     "metadata": {},
     "output_type": "execute_result"
    }
   ],
   "source": [
    "lr_clf.best_score_"
   ]
  },
  {
   "cell_type": "code",
   "execution_count": 226,
   "metadata": {},
   "outputs": [
    {
     "name": "stdout",
     "output_type": "stream",
     "text": [
      "              precision    recall  f1-score   support\n",
      "\n",
      "           0       0.75      0.80      0.78        76\n",
      "           1       0.83      0.79      0.81        94\n",
      "\n",
      "    accuracy                           0.79       170\n",
      "   macro avg       0.79      0.79      0.79       170\n",
      "weighted avg       0.80      0.79      0.79       170\n",
      "\n"
     ]
    }
   ],
   "source": [
    "lr_predictions = lr_clf.predict(X_test)\n",
    "print(classification_report(y_test, lr_predictions))"
   ]
  },
  {
   "cell_type": "code",
   "execution_count": 196,
   "metadata": {},
   "outputs": [],
   "source": [
    "filename = \"lr_model.pkl\"\n",
    "pickle.dump(lr_clf, open(filename, \"wb\"))"
   ]
  },
  {
   "cell_type": "markdown",
   "metadata": {},
   "source": [
    "# Naive Bayes"
   ]
  },
  {
   "cell_type": "code",
   "execution_count": 21,
   "metadata": {},
   "outputs": [
    {
     "name": "stdout",
     "output_type": "stream",
     "text": [
      "Accuracy: 55.29\n",
      "5-fold CV Accuracy: 68.82\n",
      "Running time: 0:00:00.079290\n"
     ]
    }
   ],
   "source": [
    "start = time.time()\n",
    "\n",
    "train_pred_nb, acc_nb, acc_cv_nb = fit_model(GaussianNB(),\n",
    "                                             X_train,\n",
    "                                             y_train,\n",
    "                                             5)\n",
    "\n",
    "nb_time = dt.timedelta(seconds=(time.time() - start))\n",
    "print(f\"Accuracy: {acc_nb}\")\n",
    "print(f\"5-fold CV Accuracy: {acc_cv_nb}\")\n",
    "print(f\"Running time: {nb_time}\")"
   ]
  },
  {
   "cell_type": "markdown",
   "metadata": {},
   "source": [
    "# Linear SVC"
   ]
  },
  {
   "cell_type": "code",
   "execution_count": 22,
   "metadata": {},
   "outputs": [
    {
     "name": "stdout",
     "output_type": "stream",
     "text": [
      "Accuracy: 81.18\n",
      "5-fold CV Accuracy: 78.24\n",
      "Running time: 0:00:00.092836\n"
     ]
    }
   ],
   "source": [
    "start = time.time()\n",
    "\n",
    "train_pred_linsvc, acc_linsvc, acc_cv_linsvc = fit_model(LinearSVC(),\n",
    "                                                         X_train,\n",
    "                                                         y_train,\n",
    "                                                         5)\n",
    "\n",
    "linsvc_time = dt.timedelta(seconds=(time.time() - start))\n",
    "print(f\"Accuracy: {acc_linsvc}\")\n",
    "print(f\"5-fold CV Accuracy: {acc_cv_linsvc}\")\n",
    "print(f\"Running time: {linsvc_time}\")"
   ]
  },
  {
   "cell_type": "markdown",
   "metadata": {},
   "source": [
    "# K Neighbours Classifier"
   ]
  },
  {
   "cell_type": "code",
   "execution_count": 152,
   "metadata": {},
   "outputs": [
    {
     "name": "stdout",
     "output_type": "stream",
     "text": [
      "Accuracy: 80.59\n",
      "5-fold CV Accuracy: 72.94\n",
      "Running time: 0:00:00.250943\n"
     ]
    }
   ],
   "source": [
    "start = time.time()\n",
    "\n",
    "train_pred_kn, acc_kn, acc_cv_kn = fit_model(KNeighborsClassifier(),\n",
    "                                                               X_train.values,\n",
    "                                                               y_train,\n",
    "                                                               5,\n",
    "                                                               X_test.values)\n",
    "\n",
    "kn_time = dt.timedelta(seconds=(time.time() - start))\n",
    "print(f\"Accuracy: {acc_kn}\")\n",
    "print(f\"5-fold CV Accuracy: {acc_cv_kn}\")\n",
    "print(f\"Running time: {kn_time}\")"
   ]
  },
  {
   "cell_type": "code",
   "execution_count": 227,
   "metadata": {},
   "outputs": [],
   "source": [
    "parameters = {'n_neighbors': [3, 4, 5, 6, 7],  \n",
    "              'weights': [\"uniform\", \"distance\"], \n",
    "              'leaf_size':[10, 20, 30, 40, 50],\n",
    "              'p': [1, 2, 3]}\n",
    "                "
   ]
  },
  {
   "cell_type": "code",
   "execution_count": null,
   "metadata": {},
   "outputs": [],
   "source": [
    "knn_clf = GridSearchCV(KNeighborsClassifier(),\n",
    "                       parameters,\n",
    "                       refit=True,\n",
    "                       verbose=3)\n",
    "\n",
    "knn_clf.fit(X_train.values, y_train)"
   ]
  },
  {
   "cell_type": "code",
   "execution_count": 231,
   "metadata": {},
   "outputs": [
    {
     "data": {
      "text/plain": [
       "{'leaf_size': 10, 'n_neighbors': 5, 'p': 1, 'weights': 'distance'}"
      ]
     },
     "execution_count": 231,
     "metadata": {},
     "output_type": "execute_result"
    }
   ],
   "source": [
    "knn_clf.best_params_"
   ]
  },
  {
   "cell_type": "code",
   "execution_count": 229,
   "metadata": {},
   "outputs": [
    {
     "data": {
      "text/plain": [
       "0.7970879440885265"
      ]
     },
     "execution_count": 229,
     "metadata": {},
     "output_type": "execute_result"
    }
   ],
   "source": [
    "knn_clf.best_score_"
   ]
  },
  {
   "cell_type": "code",
   "execution_count": 230,
   "metadata": {},
   "outputs": [
    {
     "name": "stdout",
     "output_type": "stream",
     "text": [
      "              precision    recall  f1-score   support\n",
      "\n",
      "           0       0.75      0.78      0.76        76\n",
      "           1       0.81      0.79      0.80        94\n",
      "\n",
      "    accuracy                           0.78       170\n",
      "   macro avg       0.78      0.78      0.78       170\n",
      "weighted avg       0.78      0.78      0.78       170\n",
      "\n"
     ]
    }
   ],
   "source": [
    "knn_predictions = knn_clf.predict(X_test.values)\n",
    "print(classification_report(y_test, knn_predictions))"
   ]
  },
  {
   "cell_type": "code",
   "execution_count": 197,
   "metadata": {},
   "outputs": [],
   "source": [
    "filename = \"knn_model.pkl\"\n",
    "pickle.dump(knn_clf, open(filename, \"wb\"))"
   ]
  },
  {
   "cell_type": "code",
   "execution_count": null,
   "metadata": {},
   "outputs": [],
   "source": []
  },
  {
   "cell_type": "markdown",
   "metadata": {},
   "source": [
    "# SVC"
   ]
  },
  {
   "cell_type": "code",
   "execution_count": 102,
   "metadata": {},
   "outputs": [
    {
     "name": "stdout",
     "output_type": "stream",
     "text": [
      "Accuracy: 80.0\n",
      "5-fold CV Accuracy: 75.88\n",
      "Running time: 0:00:00.228903\n"
     ]
    }
   ],
   "source": [
    "start = time.time()\n",
    "\n",
    "train_pred_svc, acc_svc, acc_cv_svc = fit_model(SVC(),\n",
    "                                                X_train,\n",
    "                                                y_train,\n",
    "                                                5)\n",
    "\n",
    "svc_time = dt.timedelta(seconds=(time.time() - start))\n",
    "print(f\"Accuracy: {acc_svc}\")\n",
    "print(f\"5-fold CV Accuracy: {acc_cv_svc}\")\n",
    "print(f\"Running time: {svc_time}\")"
   ]
  },
  {
   "cell_type": "code",
   "execution_count": 109,
   "metadata": {},
   "outputs": [],
   "source": [
    "parameters = {'C': [0.1, 1, 10, 100],  \n",
    "              'gamma': [1, 0.1, 0.01, 0.001, 0.0001], \n",
    "              'gamma':['scale', 'auto'],\n",
    "              'kernel': ['linear', 'rbf', 'poly'],\n",
    "              'degree': [1, 2, 3, 4, 5]}  "
   ]
  },
  {
   "cell_type": "code",
   "execution_count": null,
   "metadata": {},
   "outputs": [],
   "source": [
    "svc_clf = GridSearchCV(SVC(),\n",
    "                   parameters,\n",
    "                   refit=True,\n",
    "                   verbose=3)\n",
    "\n",
    "svc_clf.fit(X_train, y_train)"
   ]
  },
  {
   "cell_type": "code",
   "execution_count": 111,
   "metadata": {},
   "outputs": [
    {
     "data": {
      "text/plain": [
       "{'C': 10, 'degree': 1, 'gamma': 'scale', 'kernel': 'rbf'}"
      ]
     },
     "execution_count": 111,
     "metadata": {},
     "output_type": "execute_result"
    }
   ],
   "source": [
    "svc_clf.best_params_"
   ]
  },
  {
   "cell_type": "code",
   "execution_count": 181,
   "metadata": {},
   "outputs": [
    {
     "name": "stdout",
     "output_type": "stream",
     "text": [
      "              precision    recall  f1-score   support\n",
      "\n",
      "           0       0.76      0.79      0.77        76\n",
      "           1       0.82      0.80      0.81        94\n",
      "\n",
      "    accuracy                           0.79       170\n",
      "   macro avg       0.79      0.79      0.79       170\n",
      "weighted avg       0.80      0.79      0.79       170\n",
      "\n"
     ]
    }
   ],
   "source": [
    "svc_predictions = svc_clf.predict(X_test)\n",
    "print(classification_report(y_test, svc_predictions))"
   ]
  },
  {
   "cell_type": "code",
   "execution_count": 198,
   "metadata": {},
   "outputs": [],
   "source": [
    "filename = \"svc_model.pkl\"\n",
    "pickle.dump(svc_clf, open(filename, \"wb\"))"
   ]
  },
  {
   "cell_type": "code",
   "execution_count": 143,
   "metadata": {},
   "outputs": [],
   "source": []
  },
  {
   "cell_type": "code",
   "execution_count": null,
   "metadata": {},
   "outputs": [],
   "source": []
  },
  {
   "cell_type": "code",
   "execution_count": null,
   "metadata": {},
   "outputs": [],
   "source": []
  },
  {
   "cell_type": "markdown",
   "metadata": {},
   "source": [
    "# Random Forest"
   ]
  },
  {
   "cell_type": "code",
   "execution_count": 29,
   "metadata": {},
   "outputs": [
    {
     "name": "stdout",
     "output_type": "stream",
     "text": [
      "Accuracy: 78.82\n",
      "5-fold CV Accuracy: 75.88\n",
      "Running time: 0:00:01.084869\n"
     ]
    }
   ],
   "source": [
    "start = time.time()\n",
    "\n",
    "train_pred_rf, acc_rf, acc_cv_rf = fit_model(RandomForestClassifier(),\n",
    "                                                X_train,\n",
    "                                                y_train,\n",
    "                                                5)\n",
    "\n",
    "rf_time = dt.timedelta(seconds=(time.time() - start))\n",
    "print(f\"Accuracy: {acc_rf}\")\n",
    "print(f\"5-fold CV Accuracy: {acc_cv_rf}\")\n",
    "print(f\"Running time: {rf_time}\")"
   ]
  },
  {
   "cell_type": "code",
   "execution_count": 166,
   "metadata": {},
   "outputs": [],
   "source": [
    "parameters = {'n_estimators': [5, 10, 50, 100, 250, 1000],  \n",
    "              'criterion': [\"gini\", \"entropy\"],\n",
    "              'min_samples_split': [2, 3, 4, 5, 6]}"
   ]
  },
  {
   "cell_type": "code",
   "execution_count": null,
   "metadata": {},
   "outputs": [],
   "source": [
    "rf_clf = GridSearchCV(RandomForestClassifier(),\n",
    "                      parameters,\n",
    "                      refit=True,\n",
    "                      verbose=3)\n",
    " \n",
    "rf_clf.fit(X_train, y_train)"
   ]
  },
  {
   "cell_type": "code",
   "execution_count": 168,
   "metadata": {},
   "outputs": [
    {
     "data": {
      "text/plain": [
       "{'criterion': 'entropy', 'min_samples_split': 4, 'n_estimators': 100}"
      ]
     },
     "execution_count": 168,
     "metadata": {},
     "output_type": "execute_result"
    }
   ],
   "source": [
    "rf_clf.best_params_"
   ]
  },
  {
   "cell_type": "code",
   "execution_count": 169,
   "metadata": {},
   "outputs": [
    {
     "data": {
      "text/plain": [
       "0.8069695204814599"
      ]
     },
     "execution_count": 169,
     "metadata": {},
     "output_type": "execute_result"
    }
   ],
   "source": [
    "rf_clf.best_score_"
   ]
  },
  {
   "cell_type": "code",
   "execution_count": 182,
   "metadata": {},
   "outputs": [
    {
     "name": "stdout",
     "output_type": "stream",
     "text": [
      "              precision    recall  f1-score   support\n",
      "\n",
      "           0       0.76      0.79      0.77        76\n",
      "           1       0.82      0.80      0.81        94\n",
      "\n",
      "    accuracy                           0.79       170\n",
      "   macro avg       0.79      0.79      0.79       170\n",
      "weighted avg       0.80      0.79      0.79       170\n",
      "\n"
     ]
    }
   ],
   "source": [
    "rf_predictions = svc_clf.predict(X_test)\n",
    "print(classification_report(y_test, rf_predictions))"
   ]
  },
  {
   "cell_type": "code",
   "execution_count": 199,
   "metadata": {},
   "outputs": [],
   "source": [
    "filename = \"rf_model.pkl\"\n",
    "pickle.dump(rf_clf, open(filename, \"wb\"))"
   ]
  },
  {
   "cell_type": "markdown",
   "metadata": {},
   "source": [
    "# XGBoost"
   ]
  },
  {
   "cell_type": "code",
   "execution_count": 13,
   "metadata": {},
   "outputs": [],
   "source": [
    "dtrain = xgb.DMatrix(X_train.values, y_train.values)"
   ]
  },
  {
   "cell_type": "code",
   "execution_count": 54,
   "metadata": {},
   "outputs": [
    {
     "name": "stdout",
     "output_type": "stream",
     "text": [
      "Accuracy: 77.65\n",
      "5-fold CV Accuracy: 77.06\n",
      "Running time: 0:00:00.777178\n"
     ]
    }
   ],
   "source": [
    "start = time.time()\n",
    "\n",
    "train_pred_xg, acc_xg, acc_cv_xg = fit_model(xgb.XGBClassifier(objective=\"binary:hinge\", \n",
    "                                                            use_label_encoder=False),\n",
    "                                          X_train.values,\n",
    "                                          y_train,\n",
    "                                          5,\n",
    "                                          X_test.values)\n",
    "\n",
    "xg_time = dt.timedelta(seconds=(time.time() - start))\n",
    "print(f\"Accuracy: {acc_xg}\")\n",
    "print(f\"5-fold CV Accuracy: {acc_cv_xg}\")\n",
    "print(f\"Running time: {xg_time}\")"
   ]
  },
  {
   "cell_type": "code",
   "execution_count": 172,
   "metadata": {},
   "outputs": [],
   "source": [
    "parameters = {'n_estimators':[3000, 4000, 5000], \n",
    "              'max_depth':[3, 4, 5], \n",
    "              \"learning_rate\":[0.005, 0.01, 0.02], \n",
    "              \"gamma\":[0.01, 0.1, 0.2]}"
   ]
  },
  {
   "cell_type": "code",
   "execution_count": null,
   "metadata": {},
   "outputs": [],
   "source": [
    "xg_clf = GridSearchCV(xgb.XGBClassifier(objective=\"binary:logistic\", \n",
    "                                        use_label_encoder=False,\n",
    "                                        eval_metric=\"logloss\"),\n",
    "                                        parameters,\n",
    "                                        refit=True,\n",
    "                                        verbose=3)\n",
    "\n",
    "xg_clf.fit(X_train.values, y_train.values)"
   ]
  },
  {
   "cell_type": "code",
   "execution_count": 183,
   "metadata": {},
   "outputs": [
    {
     "data": {
      "text/plain": [
       "{'gamma': 0.1, 'learning_rate': 0.01, 'max_depth': 5, 'n_estimators': 3000}"
      ]
     },
     "execution_count": 183,
     "metadata": {},
     "output_type": "execute_result"
    }
   ],
   "source": [
    "xg_clf.best_params_"
   ]
  },
  {
   "cell_type": "code",
   "execution_count": 184,
   "metadata": {},
   "outputs": [
    {
     "data": {
      "text/plain": [
       "0.8148320714424383"
      ]
     },
     "execution_count": 184,
     "metadata": {},
     "output_type": "execute_result"
    }
   ],
   "source": [
    "xg_clf.best_score_"
   ]
  },
  {
   "cell_type": "code",
   "execution_count": 185,
   "metadata": {},
   "outputs": [
    {
     "name": "stdout",
     "output_type": "stream",
     "text": [
      "              precision    recall  f1-score   support\n",
      "\n",
      "           0       0.75      0.76      0.76        76\n",
      "           1       0.81      0.80      0.80        94\n",
      "\n",
      "    accuracy                           0.78       170\n",
      "   macro avg       0.78      0.78      0.78       170\n",
      "weighted avg       0.78      0.78      0.78       170\n",
      "\n"
     ]
    }
   ],
   "source": [
    "grid_predictions = xg_clf.predict(X_test.values)\n",
    "print(classification_report(y_test, grid_predictions))"
   ]
  },
  {
   "cell_type": "code",
   "execution_count": 200,
   "metadata": {},
   "outputs": [],
   "source": [
    "filename = \"xgboost_model.pkl\"\n",
    "pickle.dump(xg_clf, open(filename, \"wb\"))"
   ]
  },
  {
   "cell_type": "code",
   "execution_count": null,
   "metadata": {},
   "outputs": [],
   "source": [
    "{'C': 1, 'penalty': 'l2', 'solver': 'liblinear'}"
   ]
  },
  {
   "cell_type": "code",
   "execution_count": 240,
   "metadata": {},
   "outputs": [],
   "source": [
    "def get_voting():\n",
    "    # define the base models\n",
    "    models = list()\n",
    "    models.append((\"svc_clf\", SVC(C=10, \n",
    "                                  degree=1, \n",
    "                                  gamma=\"scale\", \n",
    "                                  kernel=\"rbf\",\n",
    "                                  probability=True)))\n",
    "    models.append((\"knn_clf\", KNeighborsClassifier(leaf_size=10, \n",
    "                                                   n_neighbors=5, \n",
    "                                                   p=1, \n",
    "                                                   weights=\"distance\")))\n",
    "    models.append((\"xg_clf\", xgb.XGBClassifier(objective=\"binary:logistic\", \n",
    "                                               use_label_encoder=False,\n",
    "                                               eval_metric=\"logloss\",\n",
    "                                               gamma=0.1,\n",
    "                                               learning_rate=0.01,\n",
    "                                               max_depth=5,\n",
    "                                               n_estimators=3000)))\n",
    "    models.append((\"lr_clf\", LogisticRegression(C=1, \n",
    "                                                penalty=\"l2\",\n",
    "                                                solver=\"liblinear\",\n",
    "                                                max_iter=1000, \n",
    "                                                random_state=23)))\n",
    "    models.append((\"rf_clf\", RandomForestClassifier(criterion=\"entropy\", \n",
    "                                                    min_samples_split=4, \n",
    "                                                    n_estimators=100,\n",
    "                                                    random_state =23)))\n",
    "    \n",
    "    # define the voting ensemble\n",
    "    ensemble = VotingClassifier(estimators=models, voting=\"soft\")\n",
    "    return ensemble\n",
    "\n",
    "def get_stacking():\n",
    "    # define the base models\n",
    "    models = list()\n",
    "    models.append((\"svc_clf\", SVC(C=10, \n",
    "                                  degree=1, \n",
    "                                  gamma=\"scale\", \n",
    "                                  kernel=\"rbf\",\n",
    "                                  probability=True)))\n",
    "    models.append((\"knn_clf\", KNeighborsClassifier(leaf_size=10, \n",
    "                                                   n_neighbors=5, \n",
    "                                                   p=1, \n",
    "                                                   weights=\"distance\")))\n",
    "    models.append((\"xg_clf\", xgb.XGBClassifier(objective=\"binary:logistic\", \n",
    "                                               use_label_encoder=False,\n",
    "                                               eval_metric=\"logloss\",\n",
    "                                               gamma=0.1,\n",
    "                                               learning_rate=0.01,\n",
    "                                               max_depth=5,\n",
    "                                               n_estimators=3000)))\n",
    "    models.append((\"lr_clf\", LogisticRegression(C=1, \n",
    "                                                penalty=\"l2\",\n",
    "                                                solver=\"liblinear\",\n",
    "                                                max_iter=1000, \n",
    "                                                random_state=23)))\n",
    "    models.append((\"rf_clf\", RandomForestClassifier(criterion=\"entropy\", \n",
    "                                                    min_samples_split=4, \n",
    "                                                    n_estimators=100,\n",
    "                                                    random_state =23)))\n",
    "    \n",
    "    # define the stacking ensemble\n",
    "    ensemble = StackingClassifier(estimators=models, final_estimator=LogisticRegression())\n",
    "    return ensemble\n",
    "\n",
    "\n",
    "def get_models():\n",
    "    models = dict()\n",
    "    models[\"svc_clf\"] = SVC(C=10, \n",
    "                            degree=1, \n",
    "                            gamma=\"scale\", \n",
    "                            kernel=\"rbf\",\n",
    "                            probability=True)\n",
    "    models[\"knn_clf\"] = KNeighborsClassifier(leaf_size=10, \n",
    "                                             n_neighbors=5, \n",
    "                                             p=1, \n",
    "                                             weights=\"distance\")\n",
    "    models[\"xg_clf\"] = xgb.XGBClassifier(objective=\"binary:logistic\", \n",
    "                                         use_label_encoder=False,\n",
    "                                         eval_metric=\"logloss\",\n",
    "                                         gamma=0.1,\n",
    "                                         learning_rate=0.01,\n",
    "                                         max_depth=5,\n",
    "                                         n_estimators=3000)\n",
    "    models[\"lr_clf\"] = LogisticRegression(C=1, \n",
    "                                          penalty=\"l2\",\n",
    "                                          solver=\"liblinear\",\n",
    "                                          max_iter=1000, \n",
    "                                          random_state=23)\n",
    "    models[\"rf_clf\"] = RandomForestClassifier(criterion=\"entropy\", \n",
    "                                              min_samples_split=4, \n",
    "                                              n_estimators=100,\n",
    "                                              random_state =23)\n",
    "    \n",
    "    models[\"soft_voting\"] = get_voting()\n",
    "    models[\"stacking\"] = get_stacking()\n",
    "    \n",
    "    return models\n",
    "\n",
    "def evaluate_model(model, X, y):\n",
    "\tcv = RepeatedStratifiedKFold(n_splits=10, n_repeats=3, random_state=1)\n",
    "\tscores = cross_val_score(model, X.values, y, scoring=\"accuracy\", cv=cv, n_jobs=-1, error_score=\"raise\")\n",
    "\treturn scores"
   ]
  },
  {
   "cell_type": "code",
   "execution_count": 241,
   "metadata": {},
   "outputs": [
    {
     "name": "stdout",
     "output_type": "stream",
     "text": [
      "svc_clf: 0.821, (0.059)\n",
      "knn_clf: 0.796, (0.071)\n",
      "xg_clf: 0.816, (0.059)\n",
      "lr_clf: 0.799, (0.052)\n",
      "rf_clf: 0.809, (0.072)\n",
      "soft_voting: 0.823, (0.064)\n",
      "stacking: 0.819, (0.062)\n"
     ]
    }
   ],
   "source": [
    "models = get_models()\n",
    "\n",
    "results, names = list(), list()\n",
    "for name, model in models.items():\n",
    "\tscores = evaluate_model(model, X_train, y_train)\n",
    "\tresults.append(scores)\n",
    "\tnames.append(name)\n",
    "\tprint(f\"{name}: {mean(scores):.3f}, ({std(scores):.3f})\")"
   ]
  },
  {
   "cell_type": "markdown",
   "metadata": {},
   "source": [
    "## I can see a slight edge here when using the soft_voting Ensemble Classifier, so I think I will use that for the submission. "
   ]
  },
  {
   "cell_type": "code",
   "execution_count": null,
   "metadata": {},
   "outputs": [],
   "source": []
  },
  {
   "cell_type": "code",
   "execution_count": null,
   "metadata": {},
   "outputs": [],
   "source": []
  },
  {
   "cell_type": "code",
   "execution_count": null,
   "metadata": {},
   "outputs": [],
   "source": []
  },
  {
   "cell_type": "code",
   "execution_count": null,
   "metadata": {},
   "outputs": [],
   "source": []
  },
  {
   "cell_type": "code",
   "execution_count": null,
   "metadata": {},
   "outputs": [],
   "source": []
  },
  {
   "cell_type": "code",
   "execution_count": null,
   "metadata": {},
   "outputs": [],
   "source": []
  }
 ],
 "metadata": {
  "kernelspec": {
   "display_name": "Python 3",
   "language": "python",
   "name": "python3"
  },
  "language_info": {
   "codemirror_mode": {
    "name": "ipython",
    "version": 3
   },
   "file_extension": ".py",
   "mimetype": "text/x-python",
   "name": "python",
   "nbconvert_exporter": "python",
   "pygments_lexer": "ipython3",
   "version": "3.9.7"
  }
 },
 "nbformat": 4,
 "nbformat_minor": 4
}
