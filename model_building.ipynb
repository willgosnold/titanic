{
 "cells": [
  {
   "cell_type": "code",
   "execution_count": 69,
   "metadata": {},
   "outputs": [],
   "source": [
    "import pandas as pd\n",
    "import time\n",
    "import datetime as dt\n",
    "\n",
    "from sklearn.model_selection import train_test_split\n",
    "\n",
    "from sklearn.ensemble import RandomForestClassifier\n",
    "from sklearn.svm import SVC, LinearSVC\n",
    "from sklearn.naive_bayes import GaussianNB\n",
    "from sklearn.neighbors import KNeighborsClassifier\n",
    "from sklearn.linear_model import LogisticRegression\n",
    "from sklearn.metrics import classification_report, confusion_matrix, accuracy_score\n",
    "import xgboost as xgb\n",
    "\n",
    "from sklearn.model_selection import GridSearchCV, cross_val_predict"
   ]
  },
  {
   "cell_type": "code",
   "execution_count": 3,
   "metadata": {},
   "outputs": [],
   "source": [
    "df = pd.read_csv(\"train_bin.csv\")"
   ]
  },
  {
   "cell_type": "code",
   "execution_count": 4,
   "metadata": {},
   "outputs": [],
   "source": [
    "X = df.drop(\"Survived\", axis=1)\n",
    "y = df.Survived"
   ]
  },
  {
   "cell_type": "code",
   "execution_count": 5,
   "metadata": {},
   "outputs": [],
   "source": [
    "X_train, X_test, y_train, y_test = train_test_split(X, y, test_size=0.25, random_state=23)"
   ]
  },
  {
   "cell_type": "code",
   "execution_count": 38,
   "metadata": {},
   "outputs": [],
   "source": [
    "def fit_model(model, X_train, y_train, cv, X_test=X_test, y_test=y_test):\n",
    "    model = model.fit(X_train, y_train)\n",
    "    acc = round(model.score(X_test, y_test) * 100, 2)\n",
    "    \n",
    "    test_pred = cross_val_predict(model,\n",
    "                                  X_test,\n",
    "                                  y_test,\n",
    "                                  cv = cv)\n",
    "    \n",
    "    acc_cv = round(accuracy_score(y_test, test_pred) * 100, 2)\n",
    "    \n",
    "    return test_pred, acc, acc_cv"
   ]
  },
  {
   "cell_type": "markdown",
   "metadata": {},
   "source": [
    "# Logistic Regression"
   ]
  },
  {
   "cell_type": "code",
   "execution_count": 20,
   "metadata": {},
   "outputs": [
    {
     "name": "stdout",
     "output_type": "stream",
     "text": [
      "Accuracy: 79.41\n",
      "5-fold CV Accuracy: 74.71\n",
      "Running time: 0:00:00.295659\n"
     ]
    }
   ],
   "source": [
    "start = time.time()\n",
    "\n",
    "train_pred_logistic, acc_logistic, acc_cv_logistic = fit_model(LogisticRegression(),\n",
    "                                                               X_train,\n",
    "                                                               y_train,\n",
    "                                                               5)\n",
    "\n",
    "logistic_time = dt.timedelta(seconds=(time.time() - start))\n",
    "print(f\"Accuracy: {acc_logistic}\")\n",
    "print(f\"5-fold CV Accuracy: {acc_cv_logistic}\")\n",
    "print(f\"Running time: {logistic_time}\")"
   ]
  },
  {
   "cell_type": "markdown",
   "metadata": {},
   "source": [
    "# Naive Bayes"
   ]
  },
  {
   "cell_type": "code",
   "execution_count": 21,
   "metadata": {},
   "outputs": [
    {
     "name": "stdout",
     "output_type": "stream",
     "text": [
      "Accuracy: 55.29\n",
      "5-fold CV Accuracy: 68.82\n",
      "Running time: 0:00:00.079290\n"
     ]
    }
   ],
   "source": [
    "start = time.time()\n",
    "\n",
    "train_pred_nb, acc_nb, acc_cv_nb = fit_model(GaussianNB(),\n",
    "                                             X_train,\n",
    "                                             y_train,\n",
    "                                             5)\n",
    "\n",
    "nb_time = dt.timedelta(seconds=(time.time() - start))\n",
    "print(f\"Accuracy: {acc_nb}\")\n",
    "print(f\"5-fold CV Accuracy: {acc_cv_nb}\")\n",
    "print(f\"Running time: {nb_time}\")"
   ]
  },
  {
   "cell_type": "markdown",
   "metadata": {},
   "source": [
    "# Linear SVC"
   ]
  },
  {
   "cell_type": "code",
   "execution_count": 22,
   "metadata": {},
   "outputs": [
    {
     "name": "stdout",
     "output_type": "stream",
     "text": [
      "Accuracy: 81.18\n",
      "5-fold CV Accuracy: 78.24\n",
      "Running time: 0:00:00.092836\n"
     ]
    }
   ],
   "source": [
    "start = time.time()\n",
    "\n",
    "train_pred_linsvc, acc_linsvc, acc_cv_linsvc = fit_model(LinearSVC(),\n",
    "                                                         X_train,\n",
    "                                                         y_train,\n",
    "                                                         5)\n",
    "\n",
    "linsvc_time = dt.timedelta(seconds=(time.time() - start))\n",
    "print(f\"Accuracy: {acc_linsvc}\")\n",
    "print(f\"5-fold CV Accuracy: {acc_cv_linsvc}\")\n",
    "print(f\"Running time: {linsvc_time}\")"
   ]
  },
  {
   "cell_type": "markdown",
   "metadata": {},
   "source": [
    "# K Neighbours Classifier"
   ]
  },
  {
   "cell_type": "code",
   "execution_count": 39,
   "metadata": {},
   "outputs": [
    {
     "name": "stdout",
     "output_type": "stream",
     "text": [
      "Accuracy: 80.59\n",
      "5-fold CV Accuracy: 72.94\n",
      "Running time: 0:00:00.050925\n",
      "Just a warning\n"
     ]
    }
   ],
   "source": [
    "start = time.time()\n",
    "\n",
    "train_pred_kn, acc_kn, acc_cv_kn = fit_model(KNeighborsClassifier(),\n",
    "                                                               X_train.values,\n",
    "                                                               y_train,\n",
    "                                                               5,\n",
    "                                                               X_test.values)\n",
    "\n",
    "kn_time = dt.timedelta(seconds=(time.time() - start))\n",
    "print(f\"Accuracy: {acc_kn}\")\n",
    "print(f\"5-fold CV Accuracy: {acc_cv_kn}\")\n",
    "print(f\"Running time: {kn_time}\")"
   ]
  },
  {
   "cell_type": "markdown",
   "metadata": {},
   "source": [
    "# SVC"
   ]
  },
  {
   "cell_type": "code",
   "execution_count": 28,
   "metadata": {},
   "outputs": [
    {
     "name": "stdout",
     "output_type": "stream",
     "text": [
      "Accuracy: 80.0\n",
      "5-fold CV Accuracy: 75.88\n",
      "Running time: 0:00:00.088298\n"
     ]
    }
   ],
   "source": [
    "start = time.time()\n",
    "\n",
    "train_pred_svc, acc_svc, acc_cv_svc = fit_model(SVC(),\n",
    "                                                X_train,\n",
    "                                                y_train,\n",
    "                                                5)\n",
    "\n",
    "svc_time = dt.timedelta(seconds=(time.time() - start))\n",
    "print(f\"Accuracy: {acc_svc}\")\n",
    "print(f\"5-fold CV Accuracy: {acc_cv_svc}\")\n",
    "print(f\"Running time: {svc_time}\")"
   ]
  },
  {
   "cell_type": "markdown",
   "metadata": {},
   "source": [
    "# Random Forest"
   ]
  },
  {
   "cell_type": "code",
   "execution_count": 29,
   "metadata": {},
   "outputs": [
    {
     "name": "stdout",
     "output_type": "stream",
     "text": [
      "Accuracy: 78.82\n",
      "5-fold CV Accuracy: 75.88\n",
      "Running time: 0:00:01.084869\n"
     ]
    }
   ],
   "source": [
    "start = time.time()\n",
    "\n",
    "train_pred_rf, acc_rf, acc_cv_rf = fit_model(RandomForestClassifier(),\n",
    "                                                X_train,\n",
    "                                                y_train,\n",
    "                                                5)\n",
    "\n",
    "rf_time = dt.timedelta(seconds=(time.time() - start))\n",
    "print(f\"Accuracy: {acc_rf}\")\n",
    "print(f\"5-fold CV Accuracy: {acc_cv_rf}\")\n",
    "print(f\"Running time: {rf_time}\")"
   ]
  },
  {
   "cell_type": "markdown",
   "metadata": {},
   "source": [
    "# XGBoost"
   ]
  },
  {
   "cell_type": "code",
   "execution_count": 13,
   "metadata": {},
   "outputs": [],
   "source": [
    "dtrain = xgb.DMatrix(X_train.values, y_train.values)"
   ]
  },
  {
   "cell_type": "code",
   "execution_count": 54,
   "metadata": {},
   "outputs": [
    {
     "name": "stdout",
     "output_type": "stream",
     "text": [
      "Accuracy: 77.65\n",
      "5-fold CV Accuracy: 77.06\n",
      "Running time: 0:00:00.777178\n"
     ]
    }
   ],
   "source": [
    "start = time.time()\n",
    "\n",
    "train_pred_xg, acc_xg, acc_cv_xg = fit_model(xgb.XGBClassifier(objective=\"binary:hinge\", \n",
    "                                                            use_label_encoder=False),\n",
    "                                          X_train.values,\n",
    "                                          y_train,\n",
    "                                          5,\n",
    "                                          X_test.values)\n",
    "\n",
    "xg_time = dt.timedelta(seconds=(time.time() - start))\n",
    "print(f\"Accuracy: {acc_xg}\")\n",
    "print(f\"5-fold CV Accuracy: {acc_cv_xg}\")\n",
    "print(f\"Running time: {xg_time}\")"
   ]
  },
  {
   "cell_type": "code",
   "execution_count": 95,
   "metadata": {},
   "outputs": [],
   "source": [
    "parameters = {'n_estimators':[5000], 'max_depth':[4], \"learning_rate\":[0.01], \"gamma\":[0.1]}"
   ]
  },
  {
   "cell_type": "code",
   "execution_count": 96,
   "metadata": {},
   "outputs": [
    {
     "name": "stdout",
     "output_type": "stream",
     "text": [
      "Fitting 5 folds for each of 1 candidates, totalling 5 fits\n",
      "[CV 1/5] END gamma=0.1, learning_rate=0.01, max_depth=4, n_estimators=5000;, score=0.804 total time=   6.1s\n",
      "[CV 2/5] END gamma=0.1, learning_rate=0.01, max_depth=4, n_estimators=5000;, score=0.814 total time=   4.2s\n",
      "[CV 3/5] END gamma=0.1, learning_rate=0.01, max_depth=4, n_estimators=5000;, score=0.853 total time=   5.0s\n",
      "[CV 4/5] END gamma=0.1, learning_rate=0.01, max_depth=4, n_estimators=5000;, score=0.812 total time=   9.9s\n",
      "[CV 5/5] END gamma=0.1, learning_rate=0.01, max_depth=4, n_estimators=5000;, score=0.812 total time=   8.7s\n"
     ]
    },
    {
     "data": {
      "text/plain": [
       "GridSearchCV(estimator=XGBClassifier(base_score=None, booster=None,\n",
       "                                     colsample_bylevel=None,\n",
       "                                     colsample_bynode=None,\n",
       "                                     colsample_bytree=None,\n",
       "                                     enable_categorical=False, gamma=None,\n",
       "                                     gpu_id=None, importance_type=None,\n",
       "                                     interaction_constraints=None,\n",
       "                                     learning_rate=None, max_delta_step=None,\n",
       "                                     max_depth=None, min_child_weight=None,\n",
       "                                     missing=nan, monotone_constraints=None,\n",
       "                                     n_estimators=100, n_jobs=None,\n",
       "                                     num_parallel_tree=None,\n",
       "                                     objective='binary:hinge', predictor=None,\n",
       "                                     random_state=None, reg_alpha=None,\n",
       "                                     reg_lambda=None, scale_pos_weight=None,\n",
       "                                     subsample=None, tree_method=None,\n",
       "                                     use_label_encoder=False,\n",
       "                                     validate_parameters=None, verbosity=None),\n",
       "             param_grid={'gamma': [0.1], 'learning_rate': [0.01],\n",
       "                         'max_depth': [4], 'n_estimators': [5000]},\n",
       "             verbose=3)"
      ]
     },
     "execution_count": 96,
     "metadata": {},
     "output_type": "execute_result"
    }
   ],
   "source": [
    "clf = GridSearchCV(xgb.XGBClassifier(objective=\"binary:hinge\", \n",
    "                                     use_label_encoder=False),\n",
    "                   parameters,\n",
    "                   refit=True,\n",
    "                   verbose=3)\n",
    "\n",
    "clf.fit(X_train.values, y_train.values)"
   ]
  },
  {
   "cell_type": "code",
   "execution_count": 97,
   "metadata": {},
   "outputs": [
    {
     "data": {
      "text/plain": [
       "{'gamma': 0.1, 'learning_rate': 0.01, 'max_depth': 4, 'n_estimators': 5000}"
      ]
     },
     "execution_count": 97,
     "metadata": {},
     "output_type": "execute_result"
    }
   ],
   "source": [
    "clf.best_params_"
   ]
  },
  {
   "cell_type": "code",
   "execution_count": 98,
   "metadata": {},
   "outputs": [
    {
     "name": "stdout",
     "output_type": "stream",
     "text": [
      "              precision    recall  f1-score   support\n",
      "\n",
      "           0       0.75      0.78      0.76        76\n",
      "           1       0.81      0.79      0.80        94\n",
      "\n",
      "    accuracy                           0.78       170\n",
      "   macro avg       0.78      0.78      0.78       170\n",
      "weighted avg       0.78      0.78      0.78       170\n",
      "\n"
     ]
    }
   ],
   "source": [
    "grid_predictions = clf.predict(X_test.values)\n",
    "print(classification_report(y_test, grid_predictions))"
   ]
  },
  {
   "cell_type": "code",
   "execution_count": 89,
   "metadata": {},
   "outputs": [
    {
     "data": {
      "text/plain": [
       "GridSearchCV(estimator=XGBClassifier(base_score=None, booster=None,\n",
       "                                     colsample_bylevel=None,\n",
       "                                     colsample_bynode=None,\n",
       "                                     colsample_bytree=None,\n",
       "                                     enable_categorical=False, gamma=None,\n",
       "                                     gpu_id=None, importance_type=None,\n",
       "                                     interaction_constraints=None,\n",
       "                                     learning_rate=None, max_delta_step=None,\n",
       "                                     max_depth=None, min_child_weight=None,\n",
       "                                     missing=nan, monotone_constraints=None,\n",
       "                                     n_est...rs=100, n_jobs=None,\n",
       "                                     num_parallel_tree=None,\n",
       "                                     objective='binary:hinge', predictor=None,\n",
       "                                     random_state=None, reg_alpha=None,\n",
       "                                     reg_lambda=None, scale_pos_weight=None,\n",
       "                                     subsample=None, tree_method=None,\n",
       "                                     use_label_encoder=False,\n",
       "                                     validate_parameters=None, verbosity=None),\n",
       "             param_grid={'gamma': [0, 0.1], 'learning_rate': [0.01],\n",
       "                         'max_depth': [4], 'n_estimators': [5000]},\n",
       "             verbose=3)"
      ]
     },
     "execution_count": 89,
     "metadata": {},
     "output_type": "execute_result"
    }
   ],
   "source": [
    "clf"
   ]
  },
  {
   "cell_type": "code",
   "execution_count": 14,
   "metadata": {},
   "outputs": [],
   "source": []
  }
 ],
 "metadata": {
  "kernelspec": {
   "display_name": "Python 3",
   "language": "python",
   "name": "python3"
  },
  "language_info": {
   "codemirror_mode": {
    "name": "ipython",
    "version": 3
   },
   "file_extension": ".py",
   "mimetype": "text/x-python",
   "name": "python",
   "nbconvert_exporter": "python",
   "pygments_lexer": "ipython3",
   "version": "3.9.7"
  }
 },
 "nbformat": 4,
 "nbformat_minor": 4
}
